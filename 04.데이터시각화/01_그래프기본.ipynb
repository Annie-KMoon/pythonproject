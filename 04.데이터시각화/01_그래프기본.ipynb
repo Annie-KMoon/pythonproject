{
 "cells": [
  {
   "cell_type": "code",
   "execution_count": 44,
   "id": "f5a81c89",
   "metadata": {},
   "outputs": [],
   "source": [
    "import matplotlib.pyplot as plt\n"
   ]
  },
  {
   "cell_type": "code",
   "execution_count": 45,
   "id": "f0c6504b",
   "metadata": {},
   "outputs": [
    {
     "data": {
      "image/png": "[encoded data removed]",
      "text/plain": [
       "<Figure size 640x480 with 1 Axes>"
      ]
     },
     "metadata": {},
     "output_type": "display_data"
    }
   ],
   "source": [
    "#꺽은선 그래프\n",
    "x = [-1,2,3]\n",
    "y = [2,4,8]\n",
    "plt.plot(x,y)\n",
    "plt.show()"
   ]
  },
  {
   "cell_type": "code",
   "execution_count": 46,
   "id": "f0439a8d",
   "metadata": {},
   "outputs": [],
   "source": [
    "#한글설정 (폰트, 사이즈, 마이너스)\n",
    "plt.rc('font', family = 'Noto Sans KR')\n",
    "plt.rc('font', size = 15)\n",
    "plt.rc('axes', unicode_minus = False)"
   ]
  },
  {
   "cell_type": "code",
   "execution_count": 47,
   "id": "c5f13cb1",
   "metadata": {},
   "outputs": [
    {
     "data": {
      "text/plain": [
       "['cmb10',\n",
       " 'cmex10',\n",
       " 'STIXSizeOneSym',\n",
       " 'DejaVu Sans',\n",
       " 'DejaVu Sans',\n",
       " 'cmsy10',\n",
       " 'STIXGeneral',\n",
       " 'STIXNonUnicode',\n",
       " 'STIXSizeTwoSym',\n",
       " 'DejaVu Sans Display',\n",
       " 'cmmi10',\n",
       " 'DejaVu Serif Display',\n",
       " 'STIXSizeFourSym',\n",
       " 'STIXNonUnicode',\n",
       " 'STIXNonUnicode',\n",
       " 'STIXSizeFiveSym',\n",
       " 'STIXSizeFourSym',\n",
       " 'DejaVu Sans',\n",
       " 'cmr10',\n",
       " 'cmtt10',\n",
       " 'STIXSizeThreeSym',\n",
       " 'DejaVu Sans Mono',\n",
       " 'DejaVu Serif',\n",
       " 'STIXGeneral',\n",
       " 'STIXNonUnicode',\n",
       " 'DejaVu Sans Mono',\n",
       " 'DejaVu Serif',\n",
       " 'DejaVu Serif',\n",
       " 'DejaVu Sans',\n",
       " 'STIXSizeOneSym',\n",
       " 'DejaVu Sans Mono',\n",
       " 'DejaVu Sans Mono',\n",
       " 'STIXGeneral',\n",
       " 'STIXGeneral',\n",
       " 'STIXSizeTwoSym',\n",
       " 'DejaVu Serif',\n",
       " 'cmss10',\n",
       " 'STIXSizeThreeSym',\n",
       " 'Ebrima',\n",
       " 'Corbel',\n",
       " 'Segoe UI',\n",
       " 'Calibri',\n",
       " 'Leelawadee UI',\n",
       " 'Yu Gothic',\n",
       " 'Candara',\n",
       " 'Microsoft Tai Le',\n",
       " 'Batang',\n",
       " 'Corbel',\n",
       " 'Palatino Linotype',\n",
       " 'Corbel',\n",
       " 'Cambria',\n",
       " 'Times New Roman',\n",
       " 'Microsoft YaHei',\n",
       " 'Yu Gothic',\n",
       " 'DejaVu Serif',\n",
       " 'Sitka',\n",
       " 'Palatino Linotype',\n",
       " 'Courier New',\n",
       " 'DejaVu Sans',\n",
       " 'DejaVu Serif',\n",
       " 'Noto Serif KR',\n",
       " 'Georgia',\n",
       " 'Comic Sans MS',\n",
       " 'Impact',\n",
       " 'Sans Serif Collection',\n",
       " 'Microsoft Himalaya',\n",
       " 'Segoe UI',\n",
       " 'Carlito',\n",
       " 'Gadugi',\n",
       " 'Times New Roman',\n",
       " 'DejaVu Sans',\n",
       " 'Lucida Sans Unicode',\n",
       " 'Malgun Gothic',\n",
       " 'Verdana',\n",
       " 'Candara',\n",
       " 'Cambria',\n",
       " 'Caladea',\n",
       " 'Arial',\n",
       " 'Verdana',\n",
       " 'Yu Gothic',\n",
       " 'Cambria',\n",
       " 'DejaVu Sans Mono',\n",
       " 'Consolas',\n",
       " 'DejaVu Serif',\n",
       " 'Gadugi',\n",
       " 'Javanese Text',\n",
       " 'Sitka',\n",
       " 'Ink Free',\n",
       " 'Microsoft New Tai Lue',\n",
       " 'Segoe UI Historic',\n",
       " 'Arial',\n",
       " 'Lucida Console',\n",
       " 'Segoe Print',\n",
       " 'Leelawadee UI',\n",
       " 'Microsoft PhagsPa',\n",
       " 'Microsoft Sans Serif',\n",
       " 'Sylfaen',\n",
       " 'Candara',\n",
       " 'Constantia',\n",
       " 'Verdana',\n",
       " 'DejaVu Sans',\n",
       " 'Courier New',\n",
       " 'DejaVu Sans Mono',\n",
       " 'Comic Sans MS',\n",
       " 'DejaVu Sans',\n",
       " 'Segoe Print',\n",
       " 'Georgia',\n",
       " 'Malgun Gothic',\n",
       " 'Gentium Basic',\n",
       " 'Trebuchet MS',\n",
       " 'Nirmala UI',\n",
       " 'Segoe MDL2 Assets',\n",
       " 'Calibri',\n",
       " 'Microsoft YaHei',\n",
       " 'Tahoma',\n",
       " 'DejaVu Serif',\n",
       " 'Arial',\n",
       " 'Consolas',\n",
       " 'Segoe UI Symbol',\n",
       " 'MS Gothic',\n",
       " 'DejaVu Serif',\n",
       " 'Mongolian Baiti',\n",
       " 'Consolas',\n",
       " 'Gulim',\n",
       " 'Trebuchet MS',\n",
       " 'Cambria',\n",
       " 'Webdings',\n",
       " 'DejaVu Serif',\n",
       " 'Microsoft New Tai Lue',\n",
       " 'Gentium Book Basic',\n",
       " 'Candara',\n",
       " 'Microsoft JhengHei',\n",
       " 'DejaVu Sans',\n",
       " 'Gentium Basic',\n",
       " 'MingLiU-ExtB',\n",
       " 'Segoe UI',\n",
       " 'Caladea',\n",
       " 'Caladea',\n",
       " 'SimSun',\n",
       " 'DejaVu Sans',\n",
       " 'Bahnschrift',\n",
       " 'MV Boli',\n",
       " 'Gentium Basic',\n",
       " 'Constantia',\n",
       " 'Microsoft YaHei',\n",
       " 'Candara',\n",
       " 'Constantia',\n",
       " 'Segoe UI',\n",
       " 'Gentium Book Basic',\n",
       " 'Microsoft Yi Baiti',\n",
       " 'SimSun-ExtB',\n",
       " 'Caladea',\n",
       " 'Segoe UI',\n",
       " 'Gabriola',\n",
       " 'Carlito',\n",
       " 'Gentium Book Basic',\n",
       " 'Comic Sans MS',\n",
       " 'Carlito',\n",
       " 'Corbel',\n",
       " 'Comic Sans MS',\n",
       " 'Symbol',\n",
       " 'Segoe UI',\n",
       " 'Microsoft Tai Le',\n",
       " 'Times New Roman',\n",
       " 'Times New Roman',\n",
       " 'Franklin Gothic Medium',\n",
       " 'DejaVu Sans',\n",
       " 'Segoe UI Emoji',\n",
       " 'Ebrima',\n",
       " 'Segoe UI',\n",
       " 'Arial',\n",
       " 'Myanmar Text',\n",
       " 'Franklin Gothic Medium',\n",
       " 'Microsoft PhagsPa',\n",
       " 'Courier New',\n",
       " 'Segoe UI',\n",
       " 'Calibri',\n",
       " 'Myanmar Text',\n",
       " 'Yu Gothic',\n",
       " 'DejaVu Serif',\n",
       " 'Arial',\n",
       " 'Consolas',\n",
       " 'Trebuchet MS',\n",
       " 'Segoe Fluent Icons',\n",
       " 'Wingdings',\n",
       " 'DejaVu Sans Mono',\n",
       " 'Georgia',\n",
       " 'Segoe UI',\n",
       " 'Verdana',\n",
       " 'Malgun Gothic',\n",
       " 'Calibri',\n",
       " 'Palatino Linotype',\n",
       " 'OpenSymbol',\n",
       " 'DejaVu Sans Mono',\n",
       " 'Corbel',\n",
       " 'DejaVu Sans',\n",
       " 'Segoe UI',\n",
       " 'Segoe Script',\n",
       " 'Gentium Book Basic',\n",
       " 'Segoe UI',\n",
       " 'Tahoma',\n",
       " 'SimSun-ExtG',\n",
       " 'DejaVu Serif',\n",
       " 'Carlito',\n",
       " 'Segoe Script',\n",
       " 'Gentium Basic',\n",
       " 'Georgia',\n",
       " 'Calibri',\n",
       " 'Segoe UI',\n",
       " 'Candara',\n",
       " 'Courier New',\n",
       " 'DejaVu Sans',\n",
       " 'Microsoft JhengHei',\n",
       " 'Segoe UI Variable',\n",
       " 'Constantia',\n",
       " 'Leelawadee UI',\n",
       " 'Calibri',\n",
       " 'Noto Sans KR',\n",
       " 'Trebuchet MS',\n",
       " 'Palatino Linotype',\n",
       " 'Corbel',\n",
       " 'Microsoft JhengHei']"
      ]
     },
     "execution_count": 47,
     "metadata": {},
     "output_type": "execute_result"
    }
   ],
   "source": [
    "#한글폰트 알아보기\n",
    "import matplotlib.font_manager as fm \n",
    "flist = fm.fontManager.ttflist\n",
    "[f.name for f in flist]"
   ]
  },
  {
   "cell_type": "code",
   "execution_count": 48,
   "id": "27505ea7",
   "metadata": {},
   "outputs": [
    {
     "data": {
      "image/png": "[encoded data removed]",
      "text/plain": [
       "<Figure size 640x480 with 1 Axes>"
      ]
     },
     "metadata": {},
     "output_type": "display_data"
    }
   ],
   "source": [
    "plt.plot(x,y)\n",
    "plt.title('꺾은선그래프')\n",
    "plt.show()"
   ]
  },
  {
   "cell_type": "code",
   "execution_count": 52,
   "id": "da7a59ad",
   "metadata": {},
   "outputs": [
    {
     "data": {
      "image/png": "[encoded data removed]",
      "text/plain": [
       "<Figure size 640x480 with 1 Axes>"
      ]
     },
     "metadata": {},
     "output_type": "display_data"
    }
   ],
   "source": [
    "#X,Y축 지정\n",
    "plt.title('꺽은 선 그래프', size = 20)\n",
    "plt.plot(x, y)\n",
    "plt.xlabel('X축', color = 'red', size = 15, loc = 'right')\n",
    "plt.ylabel('Y축', color = 'blue', size = 15, loc = 'top')\n",
    "plt.show()"
   ]
  },
  {
   "cell_type": "code",
   "execution_count": null,
   "id": "24d171e5",
   "metadata": {},
   "outputs": [
    {
     "data": {
      "image/png": "[encoded data removed]",
      "text/plain": [
       "<Figure size 640x480 with 1 Axes>"
      ]
     },
     "metadata": {},
     "output_type": "display_data"
    }
   ],
   "source": [
    "#눈금설정\n",
    "plt.plot(x,y)\n",
    "plt.xticks([-2,1,3,5]) #x, X값으로\n",
    "plt.yticks([y for y in range(0,11,2)]) #0,2,4,6,~10\n",
    "plt.show()"
   ]
  },
  {
   "cell_type": "code",
   "execution_count": null,
   "id": "cc4cf4b0",
   "metadata": {},
   "outputs": [],
   "source": []
  },
  {
   "cell_type": "code",
   "execution_count": null,
   "id": "a5fb19e5",
   "metadata": {},
   "outputs": [],
   "source": []
  },
  {
   "cell_type": "code",
   "execution_count": null,
   "id": "807dcdc1",
   "metadata": {},
   "outputs": [],
   "source": []
  },
  {
   "cell_type": "code",
   "execution_count": null,
   "id": "6c48b20b",
   "metadata": {},
   "outputs": [],
   "source": []
  },
  {
   "cell_type": "code",
   "execution_count": null,
   "id": "5ba690b3",
   "metadata": {},
   "outputs": [],
   "source": []
  }
 ],
 "metadata": {
  "kernelspec": {
   "display_name": "Python 3",
   "language": "python",
   "name": "python3"
  },
  "language_info": {
   "codemirror_mode": {
    "name": "ipython",
    "version": 3
   },
   "file_extension": ".py",
   "mimetype": "text/x-python",
   "name": "python",
   "nbconvert_exporter": "python",
   "pygments_lexer": "ipython3",
   "version": "3.10.10"
  }
 },
 "nbformat": 4,
 "nbformat_minor": 5
}

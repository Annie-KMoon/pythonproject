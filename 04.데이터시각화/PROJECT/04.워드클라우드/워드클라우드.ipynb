{
 "cells": [
  {
   "cell_type": "code",
   "execution_count": 1,
   "id": "ce03aff2",
   "metadata": {},
   "outputs": [],
   "source": [
    "from wordcloud import WordCloud\n",
    "import matplotlib.pyplot as plt"
   ]
  },
  {
   "cell_type": "code",
   "execution_count": 2,
   "id": "63ff5ac2",
   "metadata": {},
   "outputs": [],
   "source": [
    "# with open('영어가사.txt','r') as file:\n",
    "#     text = file.read()\n",
    "# file.close()\n",
    "# print(text)"
   ]
  },
  {
   "cell_type": "code",
   "execution_count": 3,
   "id": "2305e3b5",
   "metadata": {},
   "outputs": [],
   "source": [
    "# wc = WordCloud().generate(text)"
   ]
  },
  {
   "cell_type": "code",
   "execution_count": 4,
   "id": "ec89aa6a",
   "metadata": {},
   "outputs": [],
   "source": [
    "# plt.imshow(wc, interpolation='bilinear')\n",
    "# plt.axis('off')\n",
    "# plt.show()"
   ]
  },
  {
   "cell_type": "code",
   "execution_count": 5,
   "id": "96493199",
   "metadata": {},
   "outputs": [],
   "source": [
    "# with open('zen.txt','r') as file:\n",
    "#     text = file.read()\n",
    "# print(text)"
   ]
  },
  {
   "cell_type": "code",
   "execution_count": 6,
   "id": "4da171ed",
   "metadata": {},
   "outputs": [],
   "source": [
    "# wc = WordCloud().generate(text)\n",
    "# plt.imshow(wc, interpolation='bilinear')\n",
    "# plt.axis('off') #좌표off\n",
    "# plt.savefig('zen.png')\n",
    "# plt.show()"
   ]
  },
  {
   "cell_type": "code",
   "execution_count": 7,
   "id": "59dadea8",
   "metadata": {},
   "outputs": [],
   "source": [
    "# with open('golden.txt','r', encoding='utf-8') as file:\n",
    "#     text = file.read()\n",
    "# print(text)"
   ]
  },
  {
   "cell_type": "code",
   "execution_count": 8,
   "id": "25d6ab0c",
   "metadata": {},
   "outputs": [],
   "source": [
    "# wc = WordCloud().generate(text)\n",
    "# plt.imshow(wc, interpolation='bilinear')\n",
    "# plt.axis('off')\n",
    "# plt.savefig('golden.png')\n",
    "# plt.show()"
   ]
  },
  {
   "cell_type": "code",
   "execution_count": 9,
   "id": "18cda263",
   "metadata": {},
   "outputs": [],
   "source": [
    "import numpy as np\n",
    "from PIL import Image"
   ]
  },
  {
   "cell_type": "code",
   "execution_count": 10,
   "id": "44362325",
   "metadata": {},
   "outputs": [],
   "source": [
    "# heart_mask = np.array(Image.open('heart_mask.png'))"
   ]
  },
  {
   "cell_type": "code",
   "execution_count": 11,
   "id": "03b32571",
   "metadata": {},
   "outputs": [],
   "source": [
    "# with open('lover.txt','r', encoding='utf-8') as file:\n",
    "#     text = file.read()\n",
    "# # print(text)\n",
    "# wc = WordCloud(width=800, \n",
    "#                height=800, \n",
    "#                background_color='ivory',\n",
    "#                min_font_size=20,\n",
    "#                mask=heart_mask).generate(text)\n",
    "# plt.imshow(wc, interpolation='bilinear')\n",
    "# plt.axis('off')\n",
    "# plt.savefig('lover.png')\n",
    "# plt.show()"
   ]
  },
  {
   "cell_type": "code",
   "execution_count": 1,
   "id": "595a986f",
   "metadata": {},
   "outputs": [],
   "source": [
    "# from konlpy.tag import Okt\n",
    "# from collections import Counter"
   ]
  },
  {
   "cell_type": "code",
   "execution_count": 13,
   "id": "eef84336",
   "metadata": {},
   "outputs": [],
   "source": [
    "# with open('애국가.txt','r',encoding='utf-8') as file:\n",
    "#     text=file.read()\n",
    "# print(text)"
   ]
  },
  {
   "cell_type": "code",
   "execution_count": 14,
   "id": "c91310ad",
   "metadata": {},
   "outputs": [],
   "source": [
    "# okt= Okt()"
   ]
  },
  {
   "cell_type": "code",
   "execution_count": null,
   "id": "cc95470d",
   "metadata": {},
   "outputs": [],
   "source": []
  },
  {
   "cell_type": "code",
   "execution_count": null,
   "id": "b70198b2",
   "metadata": {},
   "outputs": [],
   "source": []
  }
 ],
 "metadata": {
  "kernelspec": {
   "display_name": "Python 3",
   "language": "python",
   "name": "python3"
  },
  "language_info": {
   "codemirror_mode": {
    "name": "ipython",
    "version": 3
   },
   "file_extension": ".py",
   "mimetype": "text/x-python",
   "name": "python",
   "nbconvert_exporter": "python",
   "pygments_lexer": "ipython3",
   "version": "3.10.10"
  }
 },
 "nbformat": 4,
 "nbformat_minor": 5
}
